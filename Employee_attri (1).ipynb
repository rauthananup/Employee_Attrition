{
 "cells": [
  {
   "cell_type": "code",
   "execution_count": 46,
   "id": "fe7df828-b17d-4098-a13a-9b44dca1c027",
   "metadata": {},
   "outputs": [],
   "source": [
    "#required package\n",
    "import numpy as np\n",
    "import pandas as pd\n",
    "import seaborn as sns\n",
    "import matplotlib.pyplot as plt"
   ]
  },
  {
   "cell_type": "code",
   "execution_count": 47,
   "id": "edd1d3be-d52d-4757-9435-0500be55b8db",
   "metadata": {},
   "outputs": [
    {
     "data": {
      "text/html": [
       "<div>\n",
       "<style scoped>\n",
       "    .dataframe tbody tr th:only-of-type {\n",
       "        vertical-align: middle;\n",
       "    }\n",
       "\n",
       "    .dataframe tbody tr th {\n",
       "        vertical-align: top;\n",
       "    }\n",
       "\n",
       "    .dataframe thead th {\n",
       "        text-align: right;\n",
       "    }\n",
       "</style>\n",
       "<table border=\"1\" class=\"dataframe\">\n",
       "  <thead>\n",
       "    <tr style=\"text-align: right;\">\n",
       "      <th></th>\n",
       "      <th>Age</th>\n",
       "      <th>Attrition</th>\n",
       "      <th>BusinessTravel</th>\n",
       "      <th>DailyRate</th>\n",
       "      <th>Department</th>\n",
       "      <th>DistanceFromHome</th>\n",
       "      <th>Education</th>\n",
       "      <th>EducationField</th>\n",
       "      <th>EmployeeCount</th>\n",
       "      <th>EmployeeNumber</th>\n",
       "      <th>...</th>\n",
       "      <th>RelationshipSatisfaction</th>\n",
       "      <th>StandardHours</th>\n",
       "      <th>StockOptionLevel</th>\n",
       "      <th>TotalWorkingYears</th>\n",
       "      <th>TrainingTimesLastYear</th>\n",
       "      <th>WorkLifeBalance</th>\n",
       "      <th>YearsAtCompany</th>\n",
       "      <th>YearsInCurrentRole</th>\n",
       "      <th>YearsSinceLastPromotion</th>\n",
       "      <th>YearsWithCurrManager</th>\n",
       "    </tr>\n",
       "  </thead>\n",
       "  <tbody>\n",
       "    <tr>\n",
       "      <th>0</th>\n",
       "      <td>50.0</td>\n",
       "      <td>No</td>\n",
       "      <td>Travel_Rarely</td>\n",
       "      <td>1126.0</td>\n",
       "      <td>Research &amp; Development</td>\n",
       "      <td>1.0</td>\n",
       "      <td>2</td>\n",
       "      <td>Medical</td>\n",
       "      <td>1</td>\n",
       "      <td>997</td>\n",
       "      <td>...</td>\n",
       "      <td>3</td>\n",
       "      <td>80</td>\n",
       "      <td>1</td>\n",
       "      <td>32</td>\n",
       "      <td>1</td>\n",
       "      <td>2</td>\n",
       "      <td>5</td>\n",
       "      <td>4</td>\n",
       "      <td>1</td>\n",
       "      <td>3</td>\n",
       "    </tr>\n",
       "    <tr>\n",
       "      <th>1</th>\n",
       "      <td>36.0</td>\n",
       "      <td>No</td>\n",
       "      <td>Travel_Rarely</td>\n",
       "      <td>216.0</td>\n",
       "      <td>Research &amp; Development</td>\n",
       "      <td>6.0</td>\n",
       "      <td>2</td>\n",
       "      <td>Medical</td>\n",
       "      <td>1</td>\n",
       "      <td>178</td>\n",
       "      <td>...</td>\n",
       "      <td>4</td>\n",
       "      <td>80</td>\n",
       "      <td>2</td>\n",
       "      <td>7</td>\n",
       "      <td>0</td>\n",
       "      <td>3</td>\n",
       "      <td>3</td>\n",
       "      <td>2</td>\n",
       "      <td>0</td>\n",
       "      <td>1</td>\n",
       "    </tr>\n",
       "    <tr>\n",
       "      <th>2</th>\n",
       "      <td>21.0</td>\n",
       "      <td>Yes</td>\n",
       "      <td>Travel_Rarely</td>\n",
       "      <td>337.0</td>\n",
       "      <td>Sales</td>\n",
       "      <td>7.0</td>\n",
       "      <td>1</td>\n",
       "      <td>Marketing</td>\n",
       "      <td>1</td>\n",
       "      <td>1780</td>\n",
       "      <td>...</td>\n",
       "      <td>2</td>\n",
       "      <td>80</td>\n",
       "      <td>0</td>\n",
       "      <td>1</td>\n",
       "      <td>3</td>\n",
       "      <td>3</td>\n",
       "      <td>1</td>\n",
       "      <td>0</td>\n",
       "      <td>1</td>\n",
       "      <td>0</td>\n",
       "    </tr>\n",
       "    <tr>\n",
       "      <th>3</th>\n",
       "      <td>50.0</td>\n",
       "      <td>No</td>\n",
       "      <td>Travel_Frequently</td>\n",
       "      <td>1246.0</td>\n",
       "      <td>Human Resources</td>\n",
       "      <td>NaN</td>\n",
       "      <td>3</td>\n",
       "      <td>Medical</td>\n",
       "      <td>1</td>\n",
       "      <td>644</td>\n",
       "      <td>...</td>\n",
       "      <td>3</td>\n",
       "      <td>80</td>\n",
       "      <td>1</td>\n",
       "      <td>32</td>\n",
       "      <td>2</td>\n",
       "      <td>3</td>\n",
       "      <td>32</td>\n",
       "      <td>5</td>\n",
       "      <td>10</td>\n",
       "      <td>7</td>\n",
       "    </tr>\n",
       "    <tr>\n",
       "      <th>4</th>\n",
       "      <td>52.0</td>\n",
       "      <td>No</td>\n",
       "      <td>Travel_Rarely</td>\n",
       "      <td>994.0</td>\n",
       "      <td>Research &amp; Development</td>\n",
       "      <td>7.0</td>\n",
       "      <td>4</td>\n",
       "      <td>Life Sciences</td>\n",
       "      <td>1</td>\n",
       "      <td>1118</td>\n",
       "      <td>...</td>\n",
       "      <td>4</td>\n",
       "      <td>80</td>\n",
       "      <td>0</td>\n",
       "      <td>18</td>\n",
       "      <td>4</td>\n",
       "      <td>3</td>\n",
       "      <td>8</td>\n",
       "      <td>6</td>\n",
       "      <td>4</td>\n",
       "      <td>0</td>\n",
       "    </tr>\n",
       "  </tbody>\n",
       "</table>\n",
       "<p>5 rows × 35 columns</p>\n",
       "</div>"
      ],
      "text/plain": [
       "    Age Attrition     BusinessTravel  DailyRate              Department  \\\n",
       "0  50.0        No      Travel_Rarely     1126.0  Research & Development   \n",
       "1  36.0        No      Travel_Rarely      216.0  Research & Development   \n",
       "2  21.0       Yes      Travel_Rarely      337.0                   Sales   \n",
       "3  50.0        No  Travel_Frequently     1246.0         Human Resources   \n",
       "4  52.0        No      Travel_Rarely      994.0  Research & Development   \n",
       "\n",
       "   DistanceFromHome  Education EducationField  EmployeeCount  EmployeeNumber  \\\n",
       "0               1.0          2        Medical              1             997   \n",
       "1               6.0          2        Medical              1             178   \n",
       "2               7.0          1      Marketing              1            1780   \n",
       "3               NaN          3        Medical              1             644   \n",
       "4               7.0          4  Life Sciences              1            1118   \n",
       "\n",
       "   ...  RelationshipSatisfaction StandardHours  StockOptionLevel  \\\n",
       "0  ...                         3            80                 1   \n",
       "1  ...                         4            80                 2   \n",
       "2  ...                         2            80                 0   \n",
       "3  ...                         3            80                 1   \n",
       "4  ...                         4            80                 0   \n",
       "\n",
       "   TotalWorkingYears  TrainingTimesLastYear WorkLifeBalance  YearsAtCompany  \\\n",
       "0                 32                      1               2               5   \n",
       "1                  7                      0               3               3   \n",
       "2                  1                      3               3               1   \n",
       "3                 32                      2               3              32   \n",
       "4                 18                      4               3               8   \n",
       "\n",
       "  YearsInCurrentRole  YearsSinceLastPromotion  YearsWithCurrManager  \n",
       "0                  4                        1                     3  \n",
       "1                  2                        0                     1  \n",
       "2                  0                        1                     0  \n",
       "3                  5                       10                     7  \n",
       "4                  6                        4                     0  \n",
       "\n",
       "[5 rows x 35 columns]"
      ]
     },
     "execution_count": 47,
     "metadata": {},
     "output_type": "execute_result"
    }
   ],
   "source": [
    "employee_ = pd.DataFrame(pd.read_csv(\"C:/Users/rauth/Downloads//employee_attrition.csv\"))\n",
    "employee_.head()"
   ]
  },
  {
   "cell_type": "code",
   "execution_count": 48,
   "id": "73510740-d827-4e39-a928-91e1acbdd1f6",
   "metadata": {},
   "outputs": [
    {
     "name": "stdout",
     "output_type": "stream",
     "text": [
      "<class 'pandas.core.frame.DataFrame'>\n",
      "RangeIndex: 1029 entries, 0 to 1028\n",
      "Data columns (total 35 columns):\n",
      " #   Column                    Non-Null Count  Dtype  \n",
      "---  ------                    --------------  -----  \n",
      " 0   Age                       893 non-null    float64\n",
      " 1   Attrition                 1029 non-null   object \n",
      " 2   BusinessTravel            1024 non-null   object \n",
      " 3   DailyRate                 1002 non-null   float64\n",
      " 4   Department                1029 non-null   object \n",
      " 5   DistanceFromHome          934 non-null    float64\n",
      " 6   Education                 1029 non-null   int64  \n",
      " 7   EducationField            1029 non-null   object \n",
      " 8   EmployeeCount             1029 non-null   int64  \n",
      " 9   EmployeeNumber            1029 non-null   int64  \n",
      " 10  EnvironmentSatisfaction   1029 non-null   int64  \n",
      " 11  Gender                    1029 non-null   object \n",
      " 12  HourlyRate                1029 non-null   int64  \n",
      " 13  JobInvolvement            1029 non-null   int64  \n",
      " 14  JobLevel                  1029 non-null   int64  \n",
      " 15  JobRole                   1029 non-null   object \n",
      " 16  JobSatisfaction           1029 non-null   int64  \n",
      " 17  MaritalStatus             1024 non-null   object \n",
      " 18  MonthlyIncome             1029 non-null   int64  \n",
      " 19  MonthlyRate               1029 non-null   int64  \n",
      " 20  NumCompaniesWorked        1029 non-null   int64  \n",
      " 21  Over18                    1029 non-null   object \n",
      " 22  OverTime                  1029 non-null   object \n",
      " 23  PercentSalaryHike         1029 non-null   int64  \n",
      " 24  PerformanceRating         1029 non-null   int64  \n",
      " 25  RelationshipSatisfaction  1029 non-null   int64  \n",
      " 26  StandardHours             1029 non-null   int64  \n",
      " 27  StockOptionLevel          1029 non-null   int64  \n",
      " 28  TotalWorkingYears         1029 non-null   int64  \n",
      " 29  TrainingTimesLastYear     1029 non-null   int64  \n",
      " 30  WorkLifeBalance           1029 non-null   int64  \n",
      " 31  YearsAtCompany            1029 non-null   int64  \n",
      " 32  YearsInCurrentRole        1029 non-null   int64  \n",
      " 33  YearsSinceLastPromotion   1029 non-null   int64  \n",
      " 34  YearsWithCurrManager      1029 non-null   int64  \n",
      "dtypes: float64(3), int64(23), object(9)\n",
      "memory usage: 281.5+ KB\n"
     ]
    }
   ],
   "source": [
    "employee_.info()"
   ]
  },
  {
   "cell_type": "markdown",
   "id": "55c5b4f7-aa1a-47f1-8d5e-849552568d3b",
   "metadata": {},
   "source": [
    "It is observed that,the total data set 35 columns out of which 5 columns(i.e.Age,Business Travel,DailyRate,DistanceFromHome and Marrital Status) have missing values.\"Attrition\" is the target variable('Yes/No').Various datatype of the column are integer,Flot and Object. "
   ]
  },
  {
   "cell_type": "code",
   "execution_count": 49,
   "id": "877b9e4f-3458-4565-95fe-299b16c5e8fd",
   "metadata": {},
   "outputs": [
    {
     "data": {
      "text/html": [
       "<div>\n",
       "<style scoped>\n",
       "    .dataframe tbody tr th:only-of-type {\n",
       "        vertical-align: middle;\n",
       "    }\n",
       "\n",
       "    .dataframe tbody tr th {\n",
       "        vertical-align: top;\n",
       "    }\n",
       "\n",
       "    .dataframe thead th {\n",
       "        text-align: right;\n",
       "    }\n",
       "</style>\n",
       "<table border=\"1\" class=\"dataframe\">\n",
       "  <thead>\n",
       "    <tr style=\"text-align: right;\">\n",
       "      <th></th>\n",
       "      <th>count</th>\n",
       "      <th>mean</th>\n",
       "      <th>std</th>\n",
       "      <th>min</th>\n",
       "      <th>25%</th>\n",
       "      <th>50%</th>\n",
       "      <th>75%</th>\n",
       "      <th>max</th>\n",
       "    </tr>\n",
       "  </thead>\n",
       "  <tbody>\n",
       "    <tr>\n",
       "      <th>Age</th>\n",
       "      <td>893.0</td>\n",
       "      <td>37.930571</td>\n",
       "      <td>9.395978</td>\n",
       "      <td>18.0</td>\n",
       "      <td>31.00</td>\n",
       "      <td>37.0</td>\n",
       "      <td>44.0</td>\n",
       "      <td>60.0</td>\n",
       "    </tr>\n",
       "    <tr>\n",
       "      <th>DailyRate</th>\n",
       "      <td>1002.0</td>\n",
       "      <td>800.528942</td>\n",
       "      <td>408.109828</td>\n",
       "      <td>102.0</td>\n",
       "      <td>458.25</td>\n",
       "      <td>801.5</td>\n",
       "      <td>1162.0</td>\n",
       "      <td>1496.0</td>\n",
       "    </tr>\n",
       "    <tr>\n",
       "      <th>DistanceFromHome</th>\n",
       "      <td>934.0</td>\n",
       "      <td>9.930407</td>\n",
       "      <td>8.421791</td>\n",
       "      <td>1.0</td>\n",
       "      <td>2.00</td>\n",
       "      <td>8.0</td>\n",
       "      <td>16.0</td>\n",
       "      <td>29.0</td>\n",
       "    </tr>\n",
       "    <tr>\n",
       "      <th>Education</th>\n",
       "      <td>1029.0</td>\n",
       "      <td>2.892128</td>\n",
       "      <td>1.053541</td>\n",
       "      <td>1.0</td>\n",
       "      <td>2.00</td>\n",
       "      <td>3.0</td>\n",
       "      <td>4.0</td>\n",
       "      <td>5.0</td>\n",
       "    </tr>\n",
       "    <tr>\n",
       "      <th>EmployeeCount</th>\n",
       "      <td>1029.0</td>\n",
       "      <td>1.000000</td>\n",
       "      <td>0.000000</td>\n",
       "      <td>1.0</td>\n",
       "      <td>1.00</td>\n",
       "      <td>1.0</td>\n",
       "      <td>1.0</td>\n",
       "      <td>1.0</td>\n",
       "    </tr>\n",
       "    <tr>\n",
       "      <th>EmployeeNumber</th>\n",
       "      <td>1029.0</td>\n",
       "      <td>1024.367347</td>\n",
       "      <td>606.301635</td>\n",
       "      <td>1.0</td>\n",
       "      <td>496.00</td>\n",
       "      <td>1019.0</td>\n",
       "      <td>1553.0</td>\n",
       "      <td>2068.0</td>\n",
       "    </tr>\n",
       "    <tr>\n",
       "      <th>EnvironmentSatisfaction</th>\n",
       "      <td>1029.0</td>\n",
       "      <td>2.683188</td>\n",
       "      <td>1.096829</td>\n",
       "      <td>1.0</td>\n",
       "      <td>2.00</td>\n",
       "      <td>3.0</td>\n",
       "      <td>4.0</td>\n",
       "      <td>4.0</td>\n",
       "    </tr>\n",
       "    <tr>\n",
       "      <th>HourlyRate</th>\n",
       "      <td>1029.0</td>\n",
       "      <td>66.680272</td>\n",
       "      <td>20.474094</td>\n",
       "      <td>30.0</td>\n",
       "      <td>48.00</td>\n",
       "      <td>67.0</td>\n",
       "      <td>84.0</td>\n",
       "      <td>100.0</td>\n",
       "    </tr>\n",
       "    <tr>\n",
       "      <th>JobInvolvement</th>\n",
       "      <td>1029.0</td>\n",
       "      <td>2.713314</td>\n",
       "      <td>0.710146</td>\n",
       "      <td>1.0</td>\n",
       "      <td>2.00</td>\n",
       "      <td>3.0</td>\n",
       "      <td>3.0</td>\n",
       "      <td>4.0</td>\n",
       "    </tr>\n",
       "    <tr>\n",
       "      <th>JobLevel</th>\n",
       "      <td>1029.0</td>\n",
       "      <td>2.043732</td>\n",
       "      <td>1.118918</td>\n",
       "      <td>1.0</td>\n",
       "      <td>1.00</td>\n",
       "      <td>2.0</td>\n",
       "      <td>3.0</td>\n",
       "      <td>5.0</td>\n",
       "    </tr>\n",
       "    <tr>\n",
       "      <th>JobSatisfaction</th>\n",
       "      <td>1029.0</td>\n",
       "      <td>2.712342</td>\n",
       "      <td>1.096889</td>\n",
       "      <td>1.0</td>\n",
       "      <td>2.00</td>\n",
       "      <td>3.0</td>\n",
       "      <td>4.0</td>\n",
       "      <td>4.0</td>\n",
       "    </tr>\n",
       "    <tr>\n",
       "      <th>MonthlyIncome</th>\n",
       "      <td>1029.0</td>\n",
       "      <td>6449.796890</td>\n",
       "      <td>4794.525367</td>\n",
       "      <td>1009.0</td>\n",
       "      <td>2814.00</td>\n",
       "      <td>4735.0</td>\n",
       "      <td>8446.0</td>\n",
       "      <td>19999.0</td>\n",
       "    </tr>\n",
       "    <tr>\n",
       "      <th>MonthlyRate</th>\n",
       "      <td>1029.0</td>\n",
       "      <td>14250.629738</td>\n",
       "      <td>7088.757938</td>\n",
       "      <td>2094.0</td>\n",
       "      <td>7950.00</td>\n",
       "      <td>14295.0</td>\n",
       "      <td>20392.0</td>\n",
       "      <td>26999.0</td>\n",
       "    </tr>\n",
       "    <tr>\n",
       "      <th>NumCompaniesWorked</th>\n",
       "      <td>1029.0</td>\n",
       "      <td>2.653061</td>\n",
       "      <td>2.508186</td>\n",
       "      <td>0.0</td>\n",
       "      <td>1.00</td>\n",
       "      <td>1.0</td>\n",
       "      <td>4.0</td>\n",
       "      <td>9.0</td>\n",
       "    </tr>\n",
       "    <tr>\n",
       "      <th>PercentSalaryHike</th>\n",
       "      <td>1029.0</td>\n",
       "      <td>15.260447</td>\n",
       "      <td>3.665779</td>\n",
       "      <td>11.0</td>\n",
       "      <td>12.00</td>\n",
       "      <td>14.0</td>\n",
       "      <td>18.0</td>\n",
       "      <td>25.0</td>\n",
       "    </tr>\n",
       "    <tr>\n",
       "      <th>PerformanceRating</th>\n",
       "      <td>1029.0</td>\n",
       "      <td>3.159378</td>\n",
       "      <td>0.366206</td>\n",
       "      <td>3.0</td>\n",
       "      <td>3.00</td>\n",
       "      <td>3.0</td>\n",
       "      <td>3.0</td>\n",
       "      <td>4.0</td>\n",
       "    </tr>\n",
       "    <tr>\n",
       "      <th>RelationshipSatisfaction</th>\n",
       "      <td>1029.0</td>\n",
       "      <td>2.689990</td>\n",
       "      <td>1.077767</td>\n",
       "      <td>1.0</td>\n",
       "      <td>2.00</td>\n",
       "      <td>3.0</td>\n",
       "      <td>4.0</td>\n",
       "      <td>4.0</td>\n",
       "    </tr>\n",
       "    <tr>\n",
       "      <th>StandardHours</th>\n",
       "      <td>1029.0</td>\n",
       "      <td>80.000000</td>\n",
       "      <td>0.000000</td>\n",
       "      <td>80.0</td>\n",
       "      <td>80.00</td>\n",
       "      <td>80.0</td>\n",
       "      <td>80.0</td>\n",
       "      <td>80.0</td>\n",
       "    </tr>\n",
       "    <tr>\n",
       "      <th>StockOptionLevel</th>\n",
       "      <td>1029.0</td>\n",
       "      <td>0.822157</td>\n",
       "      <td>0.874662</td>\n",
       "      <td>0.0</td>\n",
       "      <td>0.00</td>\n",
       "      <td>1.0</td>\n",
       "      <td>1.0</td>\n",
       "      <td>3.0</td>\n",
       "    </tr>\n",
       "    <tr>\n",
       "      <th>TotalWorkingYears</th>\n",
       "      <td>1029.0</td>\n",
       "      <td>11.196307</td>\n",
       "      <td>7.857581</td>\n",
       "      <td>0.0</td>\n",
       "      <td>6.00</td>\n",
       "      <td>10.0</td>\n",
       "      <td>15.0</td>\n",
       "      <td>40.0</td>\n",
       "    </tr>\n",
       "    <tr>\n",
       "      <th>TrainingTimesLastYear</th>\n",
       "      <td>1029.0</td>\n",
       "      <td>2.782313</td>\n",
       "      <td>1.283401</td>\n",
       "      <td>0.0</td>\n",
       "      <td>2.00</td>\n",
       "      <td>3.0</td>\n",
       "      <td>3.0</td>\n",
       "      <td>6.0</td>\n",
       "    </tr>\n",
       "    <tr>\n",
       "      <th>WorkLifeBalance</th>\n",
       "      <td>1029.0</td>\n",
       "      <td>2.748299</td>\n",
       "      <td>0.697278</td>\n",
       "      <td>1.0</td>\n",
       "      <td>2.00</td>\n",
       "      <td>3.0</td>\n",
       "      <td>3.0</td>\n",
       "      <td>4.0</td>\n",
       "    </tr>\n",
       "    <tr>\n",
       "      <th>YearsAtCompany</th>\n",
       "      <td>1029.0</td>\n",
       "      <td>6.942663</td>\n",
       "      <td>6.068322</td>\n",
       "      <td>0.0</td>\n",
       "      <td>3.00</td>\n",
       "      <td>5.0</td>\n",
       "      <td>10.0</td>\n",
       "      <td>37.0</td>\n",
       "    </tr>\n",
       "    <tr>\n",
       "      <th>YearsInCurrentRole</th>\n",
       "      <td>1029.0</td>\n",
       "      <td>4.215743</td>\n",
       "      <td>3.658595</td>\n",
       "      <td>0.0</td>\n",
       "      <td>2.00</td>\n",
       "      <td>3.0</td>\n",
       "      <td>7.0</td>\n",
       "      <td>18.0</td>\n",
       "    </tr>\n",
       "    <tr>\n",
       "      <th>YearsSinceLastPromotion</th>\n",
       "      <td>1029.0</td>\n",
       "      <td>2.119534</td>\n",
       "      <td>3.108651</td>\n",
       "      <td>0.0</td>\n",
       "      <td>0.00</td>\n",
       "      <td>1.0</td>\n",
       "      <td>2.0</td>\n",
       "      <td>15.0</td>\n",
       "    </tr>\n",
       "    <tr>\n",
       "      <th>YearsWithCurrManager</th>\n",
       "      <td>1029.0</td>\n",
       "      <td>4.005831</td>\n",
       "      <td>3.522574</td>\n",
       "      <td>0.0</td>\n",
       "      <td>2.00</td>\n",
       "      <td>3.0</td>\n",
       "      <td>7.0</td>\n",
       "      <td>17.0</td>\n",
       "    </tr>\n",
       "  </tbody>\n",
       "</table>\n",
       "</div>"
      ],
      "text/plain": [
       "                           count          mean          std     min      25%  \\\n",
       "Age                        893.0     37.930571     9.395978    18.0    31.00   \n",
       "DailyRate                 1002.0    800.528942   408.109828   102.0   458.25   \n",
       "DistanceFromHome           934.0      9.930407     8.421791     1.0     2.00   \n",
       "Education                 1029.0      2.892128     1.053541     1.0     2.00   \n",
       "EmployeeCount             1029.0      1.000000     0.000000     1.0     1.00   \n",
       "EmployeeNumber            1029.0   1024.367347   606.301635     1.0   496.00   \n",
       "EnvironmentSatisfaction   1029.0      2.683188     1.096829     1.0     2.00   \n",
       "HourlyRate                1029.0     66.680272    20.474094    30.0    48.00   \n",
       "JobInvolvement            1029.0      2.713314     0.710146     1.0     2.00   \n",
       "JobLevel                  1029.0      2.043732     1.118918     1.0     1.00   \n",
       "JobSatisfaction           1029.0      2.712342     1.096889     1.0     2.00   \n",
       "MonthlyIncome             1029.0   6449.796890  4794.525367  1009.0  2814.00   \n",
       "MonthlyRate               1029.0  14250.629738  7088.757938  2094.0  7950.00   \n",
       "NumCompaniesWorked        1029.0      2.653061     2.508186     0.0     1.00   \n",
       "PercentSalaryHike         1029.0     15.260447     3.665779    11.0    12.00   \n",
       "PerformanceRating         1029.0      3.159378     0.366206     3.0     3.00   \n",
       "RelationshipSatisfaction  1029.0      2.689990     1.077767     1.0     2.00   \n",
       "StandardHours             1029.0     80.000000     0.000000    80.0    80.00   \n",
       "StockOptionLevel          1029.0      0.822157     0.874662     0.0     0.00   \n",
       "TotalWorkingYears         1029.0     11.196307     7.857581     0.0     6.00   \n",
       "TrainingTimesLastYear     1029.0      2.782313     1.283401     0.0     2.00   \n",
       "WorkLifeBalance           1029.0      2.748299     0.697278     1.0     2.00   \n",
       "YearsAtCompany            1029.0      6.942663     6.068322     0.0     3.00   \n",
       "YearsInCurrentRole        1029.0      4.215743     3.658595     0.0     2.00   \n",
       "YearsSinceLastPromotion   1029.0      2.119534     3.108651     0.0     0.00   \n",
       "YearsWithCurrManager      1029.0      4.005831     3.522574     0.0     2.00   \n",
       "\n",
       "                              50%      75%      max  \n",
       "Age                          37.0     44.0     60.0  \n",
       "DailyRate                   801.5   1162.0   1496.0  \n",
       "DistanceFromHome              8.0     16.0     29.0  \n",
       "Education                     3.0      4.0      5.0  \n",
       "EmployeeCount                 1.0      1.0      1.0  \n",
       "EmployeeNumber             1019.0   1553.0   2068.0  \n",
       "EnvironmentSatisfaction       3.0      4.0      4.0  \n",
       "HourlyRate                   67.0     84.0    100.0  \n",
       "JobInvolvement                3.0      3.0      4.0  \n",
       "JobLevel                      2.0      3.0      5.0  \n",
       "JobSatisfaction               3.0      4.0      4.0  \n",
       "MonthlyIncome              4735.0   8446.0  19999.0  \n",
       "MonthlyRate               14295.0  20392.0  26999.0  \n",
       "NumCompaniesWorked            1.0      4.0      9.0  \n",
       "PercentSalaryHike            14.0     18.0     25.0  \n",
       "PerformanceRating             3.0      3.0      4.0  \n",
       "RelationshipSatisfaction      3.0      4.0      4.0  \n",
       "StandardHours                80.0     80.0     80.0  \n",
       "StockOptionLevel              1.0      1.0      3.0  \n",
       "TotalWorkingYears            10.0     15.0     40.0  \n",
       "TrainingTimesLastYear         3.0      3.0      6.0  \n",
       "WorkLifeBalance               3.0      3.0      4.0  \n",
       "YearsAtCompany                5.0     10.0     37.0  \n",
       "YearsInCurrentRole            3.0      7.0     18.0  \n",
       "YearsSinceLastPromotion       1.0      2.0     15.0  \n",
       "YearsWithCurrManager          3.0      7.0     17.0  "
      ]
     },
     "execution_count": 49,
     "metadata": {},
     "output_type": "execute_result"
    }
   ],
   "source": [
    "employee_.describe().T"
   ]
  },
  {
   "cell_type": "code",
   "execution_count": 50,
   "id": "8013f4a0-7417-430e-b9b3-242372bb3d4d",
   "metadata": {},
   "outputs": [
    {
     "name": "stdout",
     "output_type": "stream",
     "text": [
      "Total Number of Unique Vlaues in columns:\n",
      "Age:(Datatype: float64) : 40\n",
      "BusinessTravel:(Datatype: object) : 4\n",
      "DailyRate:(Datatype: float64) : 693\n",
      "Department:(Datatype: object) : 3\n",
      "DistanceFromHome:(Datatype: float64) : 28\n",
      "Education:(Datatype: int64) : 5\n",
      "EducationField:(Datatype: object) : 6\n",
      "EmployeeCount:(Datatype: int64) : 1\n",
      "EmployeeNumber:(Datatype: int64) : 1029\n",
      "EnvironmentSatisfaction:(Datatype: int64) : 4\n",
      "Gender:(Datatype: object) : 2\n",
      "HourlyRate:(Datatype: int64) : 71\n",
      "JobInvolvement:(Datatype: int64) : 4\n",
      "JobLevel:(Datatype: int64) : 5\n",
      "JobRole:(Datatype: object) : 9\n",
      "JobSatisfaction:(Datatype: int64) : 4\n",
      "MaritalStatus:(Datatype: object) : 4\n",
      "MonthlyIncome:(Datatype: int64) : 963\n",
      "MonthlyRate:(Datatype: int64) : 1010\n",
      "NumCompaniesWorked:(Datatype: int64) : 10\n",
      "Over18:(Datatype: object) : 1\n",
      "OverTime:(Datatype: object) : 2\n",
      "PercentSalaryHike:(Datatype: int64) : 15\n",
      "PerformanceRating:(Datatype: int64) : 2\n",
      "RelationshipSatisfaction:(Datatype: int64) : 4\n",
      "StandardHours:(Datatype: int64) : 1\n",
      "StockOptionLevel:(Datatype: int64) : 4\n",
      "TotalWorkingYears:(Datatype: int64) : 40\n",
      "TrainingTimesLastYear:(Datatype: int64) : 7\n",
      "WorkLifeBalance:(Datatype: int64) : 4\n",
      "YearsAtCompany:(Datatype: int64) : 32\n",
      "YearsInCurrentRole:(Datatype: int64) : 19\n",
      "YearsSinceLastPromotion:(Datatype: int64) : 16\n",
      "YearsWithCurrManager:(Datatype: int64) : 17\n"
     ]
    }
   ],
   "source": [
    "# Print Total number of unique values in columns:\n",
    "print('Total Number of Unique Vlaues in columns:') \n",
    "for features in employee_:\n",
    "    if(features != 'Attrition'):\n",
    "        print(str(features)+ ':(Datatype: '+str(employee_[features].dtype)+') : '+str(len(employee_[features].unique())))"
   ]
  },
  {
   "cell_type": "code",
   "execution_count": 51,
   "id": "6f155f42-b942-4a67-9c51-8f3c06060b8f",
   "metadata": {},
   "outputs": [],
   "source": [
    "employee_.drop(['EmployeeCount','EmployeeNumber','Over18','StandardHours'],axis=1,inplace=True)"
   ]
  },
  {
   "cell_type": "code",
   "execution_count": 52,
   "id": "96536e58-3e4d-4db6-a857-99d6ebbd9757",
   "metadata": {},
   "outputs": [
    {
     "data": {
      "text/plain": [
       "Age                         136\n",
       "Attrition                     0\n",
       "BusinessTravel                5\n",
       "DailyRate                    27\n",
       "Department                    0\n",
       "DistanceFromHome             95\n",
       "Education                     0\n",
       "EducationField                0\n",
       "EnvironmentSatisfaction       0\n",
       "Gender                        0\n",
       "HourlyRate                    0\n",
       "JobInvolvement                0\n",
       "JobLevel                      0\n",
       "JobRole                       0\n",
       "JobSatisfaction               0\n",
       "MaritalStatus                 5\n",
       "MonthlyIncome                 0\n",
       "MonthlyRate                   0\n",
       "NumCompaniesWorked            0\n",
       "OverTime                      0\n",
       "PercentSalaryHike             0\n",
       "PerformanceRating             0\n",
       "RelationshipSatisfaction      0\n",
       "StockOptionLevel              0\n",
       "TotalWorkingYears             0\n",
       "TrainingTimesLastYear         0\n",
       "WorkLifeBalance               0\n",
       "YearsAtCompany                0\n",
       "YearsInCurrentRole            0\n",
       "YearsSinceLastPromotion       0\n",
       "YearsWithCurrManager          0\n",
       "dtype: int64"
      ]
     },
     "execution_count": 52,
     "metadata": {},
     "output_type": "execute_result"
    }
   ],
   "source": [
    "employee_.isnull().sum()"
   ]
  },
  {
   "cell_type": "code",
   "execution_count": 53,
   "id": "eefcd402-ff10-4e6f-9002-83aa8da419f8",
   "metadata": {},
   "outputs": [
    {
     "data": {
      "text/plain": [
       "(1029, 31)"
      ]
     },
     "execution_count": 53,
     "metadata": {},
     "output_type": "execute_result"
    }
   ],
   "source": [
    "employee_.shape"
   ]
  },
  {
   "cell_type": "code",
   "execution_count": 54,
   "id": "0e8b3f79-5038-4926-9c30-986e2b30a670",
   "metadata": {},
   "outputs": [
    {
     "data": {
      "text/plain": [
       "No     853\n",
       "Yes    176\n",
       "Name: Attrition, dtype: int64"
      ]
     },
     "execution_count": 54,
     "metadata": {},
     "output_type": "execute_result"
    }
   ],
   "source": [
    "#First we look independent variable i.e.,Attrition\n",
    "employee_['Attrition'].value_counts()"
   ]
  },
  {
   "cell_type": "code",
   "execution_count": 55,
   "id": "413ba2d6-a167-4c19-ba87-59e6d3056763",
   "metadata": {},
   "outputs": [
    {
     "data": {
      "text/plain": [
       "No     82.896016\n",
       "Yes    17.103984\n",
       "Name: Attrition, dtype: float64"
      ]
     },
     "execution_count": 55,
     "metadata": {},
     "output_type": "execute_result"
    }
   ],
   "source": [
    "employee_['Attrition'].value_counts(normalize=True)*100"
   ]
  },
  {
   "cell_type": "code",
   "execution_count": 56,
   "id": "7826d1ca-2027-4e64-9083-a621eaf66b89",
   "metadata": {},
   "outputs": [
    {
     "data": {
      "text/plain": [
       "<AxesSubplot:title={'center':'employee_status'}>"
      ]
     },
     "execution_count": 56,
     "metadata": {},
     "output_type": "execute_result"
    },
    {
     "data": {
      "image/png": "[encoded data removed]",
      "text/plain": [
       "<Figure size 432x288 with 1 Axes>"
      ]
     },
     "metadata": {
      "needs_background": "light"
     },
     "output_type": "display_data"
    }
   ],
   "source": [
    "#Draw plot with proportion insted of number\n",
    "employee_['Attrition'].value_counts(normalize=True).plot.bar(title='employee_status')"
   ]
  },
  {
   "cell_type": "code",
   "execution_count": 57,
   "id": "d199eec2-ddfd-4ff1-9f86-76f5663ce40f",
   "metadata": {},
   "outputs": [
    {
     "data": {
      "text/plain": [
       "<AxesSubplot:xlabel='Gender', ylabel='count'>"
      ]
     },
     "execution_count": 57,
     "metadata": {},
     "output_type": "execute_result"
    },
    {
     "data": {
      "image/png": "[encoded data removed]",
      "text/plain": [
       "<Figure size 432x288 with 1 Axes>"
      ]
     },
     "metadata": {
      "needs_background": "light"
     },
     "output_type": "display_data"
    }
   ],
   "source": [
    "sns.countplot(x='Gender',hue='Attrition',data=employee_)"
   ]
  },
  {
   "cell_type": "markdown",
   "id": "7577bffc-769d-476e-88a7-27d3366c984f",
   "metadata": {},
   "source": [
    "#Show the number of employees that left and stay by age"
   ]
  },
  {
   "cell_type": "code",
   "execution_count": 59,
   "id": "e54c6311-624c-4437-b42f-6fa11658e103",
   "metadata": {},
   "outputs": [
    {
     "data": {
      "text/plain": [
       "<AxesSubplot:xlabel='Age', ylabel='count'>"
      ]
     },
     "execution_count": 59,
     "metadata": {},
     "output_type": "execute_result"
    },
    {
     "data": {
      "image/png": "[encoded data removed]",
      "text/plain": [
       "<Figure size 1008x288 with 1 Axes>"
      ]
     },
     "metadata": {
      "needs_background": "light"
     },
     "output_type": "display_data"
    }
   ],
   "source": [
    "plt.subplots(figsize=(14,4))\n",
    "sns.countplot(x='Age',hue='Attrition',data=employee_,palette='colorblind')"
   ]
  },
  {
   "cell_type": "code",
   "execution_count": 60,
   "id": "7d60122e-be4a-48aa-a691-d6d3a86a06ec",
   "metadata": {},
   "outputs": [
    {
     "data": {
      "text/plain": [
       "Travel_Rarely        723\n",
       "Travel_Frequently    199\n",
       "Non-Travel           102\n",
       "Name: BusinessTravel, dtype: int64"
      ]
     },
     "execution_count": 60,
     "metadata": {},
     "output_type": "execute_result"
    }
   ],
   "source": [
    "#Analysis on dependent variable\n",
    "employee_['BusinessTravel'].value_counts()"
   ]
  },
  {
   "cell_type": "code",
   "execution_count": 61,
   "id": "865e8a37-13f8-432b-8eed-2fa98718b723",
   "metadata": {},
   "outputs": [
    {
     "data": {
      "text/plain": [
       "Travel_Rarely        70.605469\n",
       "Travel_Frequently    19.433594\n",
       "Non-Travel            9.960938\n",
       "Name: BusinessTravel, dtype: float64"
      ]
     },
     "execution_count": 61,
     "metadata": {},
     "output_type": "execute_result"
    }
   ],
   "source": [
    "employee_['BusinessTravel'].value_counts(normalize=True)*100"
   ]
  },
  {
   "cell_type": "code",
   "execution_count": 62,
   "id": "59fe883e-3a5b-4d09-bf7e-b182fb3dd3bc",
   "metadata": {},
   "outputs": [
    {
     "data": {
      "text/plain": [
       "4    315\n",
       "3    301\n",
       "2    215\n",
       "1    198\n",
       "Name: JobSatisfaction, dtype: int64"
      ]
     },
     "execution_count": 62,
     "metadata": {},
     "output_type": "execute_result"
    }
   ],
   "source": [
    "employee_['JobSatisfaction'].value_counts()"
   ]
  },
  {
   "cell_type": "code",
   "execution_count": 63,
   "id": "ba79e293-6296-4ff3-96a3-651962f8372e",
   "metadata": {},
   "outputs": [
    {
     "data": {
      "text/plain": [
       "3    310\n",
       "4    300\n",
       "2    212\n",
       "1    207\n",
       "Name: EnvironmentSatisfaction, dtype: int64"
      ]
     },
     "execution_count": 63,
     "metadata": {},
     "output_type": "execute_result"
    }
   ],
   "source": [
    "employee_['EnvironmentSatisfaction'].value_counts()"
   ]
  },
  {
   "cell_type": "markdown",
   "id": "a2f50a0d-324e-46bb-9ddc-6fafc11d0f0a",
   "metadata": {},
   "source": [
    "## Analysis of the Rating Features \n",
    "- JobSatisfaction\n",
    "- EnvironmentSatisfaction\n",
    "- JobInvolvement\n",
    "- WorkLifeBalance\n",
    "- PerformanceRating"
   ]
  },
  {
   "cell_type": "code",
   "execution_count": 64,
   "id": "7d9cde7a-32f2-44e6-971a-5d6b3a4eda8a",
   "metadata": {},
   "outputs": [
    {
     "data": {
      "image/png": "[encoded data removed]",
      "text/plain": [
       "<Figure size 1080x432 with 4 Axes>"
      ]
     },
     "metadata": {},
     "output_type": "display_data"
    }
   ],
   "source": [
    "fig = plt.figure()\n",
    "\n",
    "ax1 = fig.add_subplot(221)\n",
    "ax2 = fig.add_subplot(222)\n",
    "ax3 = fig.add_subplot(223)\n",
    "ax4 = fig.add_subplot(224)\n",
    "\n",
    "labels = 'Low','Medium','High','Very High'\n",
    "\n",
    "employee_['JobSatisfaction'].astype(str).value_counts().plot(kind='pie',\n",
    "                                                             figsize=(15,6),\n",
    "                                                             autopct='%1.1f%%',\n",
    "                                                             startangle=90,\n",
    "                                                             shadow=True,\n",
    "                                                             labels=None,ax=ax1)  #add to subplot\n",
    "ax1.set_title('Rating of job Satisfaction by Employees')\n",
    "fig.legend(labels=labels,loc='center')\n",
    "\n",
    "\n",
    "employee_['EnvironmentSatisfaction'].astype(str).value_counts().plot(kind='pie',\n",
    "                                                                     figsize=(15,6),\n",
    "                                                                     autopct='%1.1f%%',\n",
    "                                                                     startangle=90,\n",
    "                                                                     shadow=True,\n",
    "                                                                     labels=None,ax=ax2)\n",
    "ax2.set_title('Rating of environment Satisfaction by Employees')\n",
    "\n",
    "employee_['RelationshipSatisfaction'].astype(str).value_counts().plot(kind='pie',\n",
    "                                                                      figsize=(15,6),\n",
    "                                                                      autopct='%1.1f%%',\n",
    "                                                                      startangle=90,\n",
    "                                                                      shadow=True,\n",
    "                                                                      labels=None,ax=ax3)\n",
    "ax3.set_title('Rating of Relationship Satisfaction by Employees')\n",
    "\n",
    "employee_['JobInvolvement'].astype(str).value_counts().plot(kind='pie',\n",
    "                                                            figsize=(15,6),\n",
    "                                                            autopct='%1.1f%%',\n",
    "                                                            startangle=90,\n",
    "                                                            shadow=True,\n",
    "                                                            labels=None,ax=ax4)\n",
    "ax4.set_title('Rating of Job Involvement by Employees')\n",
    "\n",
    "\n",
    "plt.show()"
   ]
  },
  {
   "cell_type": "markdown",
   "id": "e81c059a-1d44-4a76-8b08-6589bd71ba57",
   "metadata": {},
   "source": [
    "## From the subplot,we can infer that more than 60% of the employees are:\n",
    "\n",
    "- Not Satisfied in their Job\n",
    "- Not Satisfied with their Work Environment\n",
    "- Not Satisfied in their Relationship\n",
    "- Not Getting involved in their job"
   ]
  },
  {
   "cell_type": "code",
   "execution_count": 65,
   "id": "01b43153-b7f6-48ed-8ed7-df26cf92f348",
   "metadata": {},
   "outputs": [
    {
     "data": {
      "image/png": "[encoded data removed]",
      "text/plain": [
       "<Figure size 1080x432 with 2 Axes>"
      ]
     },
     "metadata": {},
     "output_type": "display_data"
    }
   ],
   "source": [
    "fig2 = plt.figure()\n",
    "\n",
    "ax5 = fig2.add_subplot(121)\n",
    "ax6 = fig2.add_subplot(122)\n",
    "\n",
    "labels_list1 = 'Bad','Good','Better','Best'\n",
    "labels_list2 = 'Low','Good','Excellent','Outstanding'\n",
    "\n",
    "employee_['WorkLifeBalance'].astype(str).value_counts().plot(kind='pie',\n",
    "                                                             figsize=(15,6),\n",
    "                                                             autopct='%1.1f%%',\n",
    "                                                             startangle=90,\n",
    "                                                             shadow=True,\n",
    "                                                             labels=None,ax=ax5)\n",
    "ax5.set_title('Rating of Work Life Balance by Employees')\n",
    "ax5.legend(labels=labels_list1,loc='upper right')\n",
    "\n",
    "employee_['PerformanceRating'].astype(str).value_counts().plot(kind='pie',\n",
    "                                                               figsize=(15,6),\n",
    "                                                               autopct='%1.1f%%',\n",
    "                                                               startangle=True,\n",
    "                                                               labels=None,ax=ax6)\n",
    "ax6.set_title('Performance Rating of the employees')\n",
    "ax6.legend(labels=labels_list2,loc='upper right')\n",
    "\n",
    "plt.show()\n"
   ]
  },
  {
   "cell_type": "markdown",
   "id": "e849bc8f-08dd-4f83-a1ad-8cb91ce37990",
   "metadata": {},
   "source": [
    "# From the obove piecharts,we can see that:\n",
    "- Almost 61% of the employee have rated their Work-Life Balance as bad\n",
    "- Almost 84% of the employee have a low performance rating"
   ]
  },
  {
   "cell_type": "markdown",
   "id": "ea9e24d0-d598-4978-9aa1-8b36ef3f0098",
   "metadata": {},
   "source": [
    "# Analysis of business Travel Feature"
   ]
  },
  {
   "cell_type": "code",
   "execution_count": 66,
   "id": "721de866-ec1a-4696-b9a6-e61d8cdcb3dd",
   "metadata": {},
   "outputs": [
    {
     "data": {
      "image/png": "[encoded data removed]",
      "text/plain": [
       "<Figure size 432x288 with 1 Axes>"
      ]
     },
     "metadata": {
      "needs_background": "light"
     },
     "output_type": "display_data"
    }
   ],
   "source": [
    "travel_ = employee_.groupby(\"BusinessTravel\")[\"Attrition\"].value_counts(normalize=False).unstack()\n",
    "\n",
    "travel_.plot(kind='bar',alpha=1,stacked='false')\n",
    "\n",
    "plt.title('Business travel vs Attrition')\n",
    "plt.ylabel('Number of Employee')\n",
    "plt.show()"
   ]
  },
  {
   "cell_type": "markdown",
   "id": "66523240-e63c-439f-ad2c-a0928715961c",
   "metadata": {},
   "source": [
    "From the above data it is clear that Employee who travel rarely have more attrition rate followed by Employees who travel frequently.\n",
    "- Best way to reduce this attrition is to conduct monthly survey and to assign travel according to the Employee business travel intrest"
   ]
  },
  {
   "cell_type": "markdown",
   "id": "640dd7d0-5520-4202-86a2-d5c53901685c",
   "metadata": {},
   "source": [
    "# Analysis of Work Experience\n",
    "- YearsAtCompany\n",
    "- YearsAtCurrentRole\n",
    "- YearsWithCurrentManager\n",
    "- TotalWorkingYears"
   ]
  },
  {
   "cell_type": "code",
   "execution_count": 67,
   "id": "cd7e6f26-9379-4b7f-a145-fe05bcf9f9b0",
   "metadata": {},
   "outputs": [
    {
     "data": {
      "image/png": "[encoded data removed]",
      "text/plain": [
       "<Figure size 720x432 with 1 Axes>"
      ]
     },
     "metadata": {
      "needs_background": "light"
     },
     "output_type": "display_data"
    }
   ],
   "source": [
    "yac = employee_.groupby('YearsAtCompany')['Attrition'].value_counts(normalize=False).unstack()\n",
    "\n",
    "yac.plot(kind='bar',stacked='false',figsize=(10,6))\n",
    "\n",
    "plt.title('Years at Company of Epmloyee')\n",
    "plt.ylabel('Number of Employee')\n",
    "plt.show()"
   ]
  },
  {
   "cell_type": "code",
   "execution_count": 68,
   "id": "572b693b-063c-45f8-b131-0c14912cb8a5",
   "metadata": {},
   "outputs": [
    {
     "data": {
      "image/png": "[encoded data removed]",
      "text/plain": [
       "<Figure size 1440x432 with 2 Axes>"
      ]
     },
     "metadata": {
      "needs_background": "light"
     },
     "output_type": "display_data"
    }
   ],
   "source": [
    "ycr = employee_.groupby('YearsInCurrentRole')['Attrition'].value_counts(normalize=False).unstack()\n",
    "ysp = employee_.groupby('YearsSinceLastPromotion')['Attrition'].value_counts(normalize=False).unstack()\n",
    "\n",
    "fig = plt.figure()\n",
    "\n",
    "ax0 =fig.add_subplot(121)\n",
    "ax1 =fig.add_subplot(122)\n",
    "\n",
    "#subplot 1:\n",
    "ycr.plot(kind='bar',stacked='False',figsize=(20,6),ax=ax0) \n",
    "ax0.set_title('Same Role')\n",
    "ax0.set_xlabel('Years In Current Role')\n",
    "ax0.set_ylabel('Number of Employee')\n",
    "\n",
    "# subplot 2:\n",
    "ysp.plot(kind='bar',stacked ='False',figsize=(20,6),ax=ax1)\n",
    "ax1.set_title('Last promotion')\n",
    "ax1.set_ylabel('Number of Employees')\n",
    "ax1.set_xlabel('Years Since Last Promotion')\n",
    "\n",
    "plt.show()"
   ]
  },
  {
   "cell_type": "markdown",
   "id": "8f26ac49-fcb2-47c5-ae10-2efe4c1029ef",
   "metadata": {},
   "source": [
    "From the above two plots,it is very clear that Employee who are in same post or not getting promoted tend to leave the companym most.It is a major concern,since experienced employees quiting their job would affect the company most\n"
   ]
  },
  {
   "cell_type": "code",
   "execution_count": 69,
   "id": "8dccbc80-03bd-4162-b4ad-bc2dd3b5342a",
   "metadata": {},
   "outputs": [
    {
     "data": {
      "image/png": "[encoded data removed]",
      "text/plain": [
       "<Figure size 720x432 with 1 Axes>"
      ]
     },
     "metadata": {
      "needs_background": "light"
     },
     "output_type": "display_data"
    }
   ],
   "source": [
    "ycm= employee_.groupby('YearsWithCurrManager')['Attrition'].value_counts(normalize=False).unstack()\n",
    "\n",
    "ycm.plot(kind='bar',stacked='False',figsize=(10,6))\n",
    "\n",
    "plt.title('Years With Current Manager')\n",
    "plt.ylabel('Number of Employee')\n",
    "plt.show()"
   ]
  },
  {
   "cell_type": "markdown",
   "id": "46776110-6622-4860-af31-05ac1c5d1149",
   "metadata": {},
   "source": [
    "It it clear that in the starting of relation of manager and Employees are not so happy.It is important that the manager communication with the employee from the starting itself trying to understand them soon to reduce the increase in Attrition"
   ]
  },
  {
   "cell_type": "code",
   "execution_count": 70,
   "id": "bf330602-27dc-42b5-9ad7-bbfa9821a23a",
   "metadata": {},
   "outputs": [
    {
     "data": {
      "image/png": "[encoded data removed]",
      "text/plain": [
       "<Figure size 720x360 with 1 Axes>"
      ]
     },
     "metadata": {
      "needs_background": "light"
     },
     "output_type": "display_data"
    }
   ],
   "source": [
    "twy =employee_.groupby('TotalWorkingYears')['Attrition'].value_counts(normalize=False).unstack()\n",
    "\n",
    "twy.plot(kind='bar',stacked='False',figsize=(10,5))\n",
    "\n",
    "plt.title('Total Working Years of Experience')\n",
    "plt.ylabel('Number of Employees')\n",
    "plt.show()"
   ]
  },
  {
   "cell_type": "markdown",
   "id": "41c308b1-98d9-45cc-8181-6d7a2142725a",
   "metadata": {},
   "source": [
    "It is observed that freshers leave the company very likely so it's important that company creates a new policy to handle freshers so they don't leave the company from the start"
   ]
  },
  {
   "cell_type": "markdown",
   "id": "17c16520-b2d1-4403-825e-085eb34caae0",
   "metadata": {},
   "source": [
    "# Analysis of Monthly Income"
   ]
  },
  {
   "cell_type": "code",
   "execution_count": 71,
   "id": "e339cd11-b329-42bf-8749-2a66f9e77949",
   "metadata": {},
   "outputs": [
    {
     "data": {
      "text/html": [
       "<div>\n",
       "<style scoped>\n",
       "    .dataframe tbody tr th:only-of-type {\n",
       "        vertical-align: middle;\n",
       "    }\n",
       "\n",
       "    .dataframe tbody tr th {\n",
       "        vertical-align: top;\n",
       "    }\n",
       "\n",
       "    .dataframe thead th {\n",
       "        text-align: right;\n",
       "    }\n",
       "</style>\n",
       "<table border=\"1\" class=\"dataframe\">\n",
       "  <thead>\n",
       "    <tr style=\"text-align: right;\">\n",
       "      <th></th>\n",
       "      <th>Yes</th>\n",
       "      <th>No</th>\n",
       "    </tr>\n",
       "  </thead>\n",
       "  <tbody>\n",
       "    <tr>\n",
       "      <th>0</th>\n",
       "      <td>2679</td>\n",
       "      <td>17399</td>\n",
       "    </tr>\n",
       "    <tr>\n",
       "      <th>1</th>\n",
       "      <td>13610</td>\n",
       "      <td>4941</td>\n",
       "    </tr>\n",
       "    <tr>\n",
       "      <th>2</th>\n",
       "      <td>4382</td>\n",
       "      <td>18200</td>\n",
       "    </tr>\n",
       "    <tr>\n",
       "      <th>3</th>\n",
       "      <td>2313</td>\n",
       "      <td>10445</td>\n",
       "    </tr>\n",
       "    <tr>\n",
       "      <th>4</th>\n",
       "      <td>10609</td>\n",
       "      <td>10333</td>\n",
       "    </tr>\n",
       "  </tbody>\n",
       "</table>\n",
       "</div>"
      ],
      "text/plain": [
       "     Yes     No\n",
       "0   2679  17399\n",
       "1  13610   4941\n",
       "2   4382  18200\n",
       "3   2313  10445\n",
       "4  10609  10333"
      ]
     },
     "execution_count": 71,
     "metadata": {},
     "output_type": "execute_result"
    }
   ],
   "source": [
    "mi = employee_[employee_['Attrition']=='Yes']['MonthlyIncome']\n",
    "mi = mi.reset_index()\n",
    "mi.drop(['index'],axis=1,inplace=True)\n",
    "\n",
    "mn = employee_[employee_['Attrition']=='No']['MonthlyIncome']\n",
    "mn = mn.reset_index()\n",
    "mn.drop(['index'],axis=1,inplace=True)\n",
    "\n",
    "mi['mn']=mn\n",
    "mi.rename(columns={'MonthlyIncome':'Yes','mn':'No'},inplace=True)\n",
    "mi.head()"
   ]
  },
  {
   "cell_type": "code",
   "execution_count": 72,
   "id": "43459a79-91ee-4149-a510-6e483dd2b383",
   "metadata": {},
   "outputs": [
    {
     "data": {
      "image/png": "[encoded data removed]",
      "text/plain": [
       "<Figure size 720x504 with 1 Axes>"
      ]
     },
     "metadata": {
      "needs_background": "light"
     },
     "output_type": "display_data"
    }
   ],
   "source": [
    "mi.plot(kind='box',figsize=(10,7))\n",
    "\n",
    "plt.title('Box plot of Monthly Income vs Attrition')\n",
    "plt.ylabel('Monthly Income')\n",
    "\n",
    "plt.show()"
   ]
  },
  {
   "cell_type": "markdown",
   "id": "1b572cdf-a4a2-4f97-b183-e213a5e1d1e4",
   "metadata": {},
   "source": [
    "Employees who left their jobs to have low average monthly income than those who continued their job in the company"
   ]
  },
  {
   "cell_type": "markdown",
   "id": "8c49fb85-04f9-45f8-86b3-ae6548486b93",
   "metadata": {},
   "source": [
    "# Analysis on JobRole vs MonthlyIncome"
   ]
  },
  {
   "cell_type": "code",
   "execution_count": 73,
   "id": "3854cf34-cf4e-4b18-8b18-e1ef6c7709dc",
   "metadata": {},
   "outputs": [
    {
     "data": {
      "image/png": "[encoded data removed]",
      "text/plain": [
       "<Figure size 720x432 with 1 Axes>"
      ]
     },
     "metadata": {
      "needs_background": "light"
     },
     "output_type": "display_data"
    }
   ],
   "source": [
    "plt.figure(figsize=(10,6))\n",
    "\n",
    "data=sns.boxplot(\n",
    "    x=employee_['JobRole'],\n",
    "    y=employee_['MonthlyIncome'])\n",
    "plt.grid(True)  \n",
    "data.set_xticklabels(data.get_xticklabels(),rotation=90)\n",
    "plt.show()"
   ]
  },
  {
   "cell_type": "markdown",
   "id": "d8a41a3c-8e7a-4021-ab97-25dad28b9e52",
   "metadata": {},
   "source": [
    "## Check least and Max outliers in Numeric Column"
   ]
  },
  {
   "cell_type": "code",
   "execution_count": 80,
   "id": "19e69508-409b-47a3-b122-3b8ffe823bcb",
   "metadata": {},
   "outputs": [
    {
     "data": {
      "text/plain": [
       "(array([0, 1, 2, 3]),\n",
       " [Text(0, 0, 'TotalWorkingYears'),\n",
       "  Text(1, 0, 'YearsAtCompany'),\n",
       "  Text(2, 0, 'YearsSinceLastPromotion'),\n",
       "  Text(3, 0, 'NumCompaniesWorked')])"
      ]
     },
     "execution_count": 80,
     "metadata": {},
     "output_type": "execute_result"
    },
    {
     "data": {
      "image/png": "[encoded data removed]",
      "text/plain": [
       "<Figure size 432x288 with 1 Axes>"
      ]
     },
     "metadata": {
      "needs_background": "light"
     },
     "output_type": "display_data"
    }
   ],
   "source": [
    "df_num = employee_ [['TotalWorkingYears','YearsAtCompany','YearsSinceLastPromotion','NumCompaniesWorked']]\n",
    "df_numMelt = df_num.melt()\n",
    "\n",
    "sns.boxplot(x='variable',y='value',data=df_numMelt)\n",
    "plt.xticks(rotation=45)"
   ]
  },
  {
   "cell_type": "markdown",
   "id": "a23f5221-3bce-4660-b14e-f870e26e8eac",
   "metadata": {},
   "source": [
    "- The Maximum Outlier present in TotalWorkingYears and YearsATCompany\n",
    "- And Least Outliers present in NumCompaniesWorked"
   ]
  },
  {
   "cell_type": "markdown",
   "id": "c4fface8-0bf2-4929-ba31-4531d13f7d17",
   "metadata": {},
   "source": [
    "# following are some inferences that we can make from the above boxplot:\n",
    "- Managers and Research directors earn a relatively large sum. Intuitively,the attrition must have an inverse relationship with the monthly income parameter.\n",
    "- Research Scientist,Lab. Techanicians and Sales Representatives positions are not well paid. Such factors would lead to attrition in these departments. However, we need to varify finding first."
   ]
  },
  {
   "cell_type": "code",
   "execution_count": 74,
   "id": "e824f42a-3728-4f45-bf37-cc391eaef5e9",
   "metadata": {},
   "outputs": [],
   "source": [
    "# Before import data to tableau convert all categorical numerical value change in specify data otherwise numerical count as metrix.\n",
    "\n",
    "employee_.replace({'Education':{1:'Below College',2:'College',3:'Bachelor',4:'Master',5:'Doctor'}},inplace=True)\n",
    "\n",
    "employee_.replace({'EnvironmentSatisfaction':{1:'Low',2:'Medium',3:'High',4:'Very High'}},inplace=True)\n",
    "\n",
    "employee_.replace({'JobInvolvement':{1:'Low',2:'Medium',3:'High',4:'Very High'}},inplace=True)\n",
    "\n",
    "employee_.replace({'JobSatisfaction':{1:'Low',2:'Medium',3:'High',4:'Very High'}},inplace=True)\n"
   ]
  },
  {
   "cell_type": "code",
   "execution_count": 75,
   "id": "de075b1b-e22a-4c5c-996c-3d0464007b89",
   "metadata": {},
   "outputs": [
    {
     "data": {
      "text/plain": [
       "Index(['Age', 'Attrition', 'BusinessTravel', 'DailyRate', 'Department',\n",
       "       'DistanceFromHome', 'Education', 'EducationField',\n",
       "       'EnvironmentSatisfaction', 'Gender', 'HourlyRate', 'JobInvolvement',\n",
       "       'JobLevel', 'JobRole', 'JobSatisfaction', 'MaritalStatus',\n",
       "       'MonthlyIncome', 'MonthlyRate', 'NumCompaniesWorked', 'OverTime',\n",
       "       'PercentSalaryHike', 'PerformanceRating', 'RelationshipSatisfaction',\n",
       "       'StockOptionLevel', 'TotalWorkingYears', 'TrainingTimesLastYear',\n",
       "       'WorkLifeBalance', 'YearsAtCompany', 'YearsInCurrentRole',\n",
       "       'YearsSinceLastPromotion', 'YearsWithCurrManager'],\n",
       "      dtype='object')"
      ]
     },
     "execution_count": 75,
     "metadata": {},
     "output_type": "execute_result"
    }
   ],
   "source": [
    "employee_.columns"
   ]
  },
  {
   "cell_type": "code",
   "execution_count": 76,
   "id": "6ae002fc-5c61-4168-b050-3045db15a55f",
   "metadata": {},
   "outputs": [
    {
     "data": {
      "text/html": [
       "<div>\n",
       "<style scoped>\n",
       "    .dataframe tbody tr th:only-of-type {\n",
       "        vertical-align: middle;\n",
       "    }\n",
       "\n",
       "    .dataframe tbody tr th {\n",
       "        vertical-align: top;\n",
       "    }\n",
       "\n",
       "    .dataframe thead th {\n",
       "        text-align: right;\n",
       "    }\n",
       "</style>\n",
       "<table border=\"1\" class=\"dataframe\">\n",
       "  <thead>\n",
       "    <tr style=\"text-align: right;\">\n",
       "      <th></th>\n",
       "      <th>Age</th>\n",
       "      <th>Attrition</th>\n",
       "      <th>BusinessTravel</th>\n",
       "      <th>DailyRate</th>\n",
       "      <th>Department</th>\n",
       "      <th>DistanceFromHome</th>\n",
       "      <th>Education</th>\n",
       "      <th>EducationField</th>\n",
       "      <th>EnvironmentSatisfaction</th>\n",
       "      <th>Gender</th>\n",
       "      <th>...</th>\n",
       "      <th>PerformanceRating</th>\n",
       "      <th>RelationshipSatisfaction</th>\n",
       "      <th>StockOptionLevel</th>\n",
       "      <th>TotalWorkingYears</th>\n",
       "      <th>TrainingTimesLastYear</th>\n",
       "      <th>WorkLifeBalance</th>\n",
       "      <th>YearsAtCompany</th>\n",
       "      <th>YearsInCurrentRole</th>\n",
       "      <th>YearsSinceLastPromotion</th>\n",
       "      <th>YearsWithCurrManager</th>\n",
       "    </tr>\n",
       "  </thead>\n",
       "  <tbody>\n",
       "    <tr>\n",
       "      <th>0</th>\n",
       "      <td>50.0</td>\n",
       "      <td>No</td>\n",
       "      <td>Travel_Rarely</td>\n",
       "      <td>1126.0</td>\n",
       "      <td>Research &amp; Development</td>\n",
       "      <td>1.0</td>\n",
       "      <td>College</td>\n",
       "      <td>Medical</td>\n",
       "      <td>Very High</td>\n",
       "      <td>Male</td>\n",
       "      <td>...</td>\n",
       "      <td>4</td>\n",
       "      <td>3</td>\n",
       "      <td>1</td>\n",
       "      <td>32</td>\n",
       "      <td>1</td>\n",
       "      <td>2</td>\n",
       "      <td>5</td>\n",
       "      <td>4</td>\n",
       "      <td>1</td>\n",
       "      <td>3</td>\n",
       "    </tr>\n",
       "    <tr>\n",
       "      <th>1</th>\n",
       "      <td>36.0</td>\n",
       "      <td>No</td>\n",
       "      <td>Travel_Rarely</td>\n",
       "      <td>216.0</td>\n",
       "      <td>Research &amp; Development</td>\n",
       "      <td>6.0</td>\n",
       "      <td>College</td>\n",
       "      <td>Medical</td>\n",
       "      <td>Medium</td>\n",
       "      <td>Male</td>\n",
       "      <td>...</td>\n",
       "      <td>4</td>\n",
       "      <td>4</td>\n",
       "      <td>2</td>\n",
       "      <td>7</td>\n",
       "      <td>0</td>\n",
       "      <td>3</td>\n",
       "      <td>3</td>\n",
       "      <td>2</td>\n",
       "      <td>0</td>\n",
       "      <td>1</td>\n",
       "    </tr>\n",
       "    <tr>\n",
       "      <th>2</th>\n",
       "      <td>21.0</td>\n",
       "      <td>Yes</td>\n",
       "      <td>Travel_Rarely</td>\n",
       "      <td>337.0</td>\n",
       "      <td>Sales</td>\n",
       "      <td>7.0</td>\n",
       "      <td>Below College</td>\n",
       "      <td>Marketing</td>\n",
       "      <td>Medium</td>\n",
       "      <td>Male</td>\n",
       "      <td>...</td>\n",
       "      <td>3</td>\n",
       "      <td>2</td>\n",
       "      <td>0</td>\n",
       "      <td>1</td>\n",
       "      <td>3</td>\n",
       "      <td>3</td>\n",
       "      <td>1</td>\n",
       "      <td>0</td>\n",
       "      <td>1</td>\n",
       "      <td>0</td>\n",
       "    </tr>\n",
       "    <tr>\n",
       "      <th>3</th>\n",
       "      <td>50.0</td>\n",
       "      <td>No</td>\n",
       "      <td>Travel_Frequently</td>\n",
       "      <td>1246.0</td>\n",
       "      <td>Human Resources</td>\n",
       "      <td>NaN</td>\n",
       "      <td>Bachelor</td>\n",
       "      <td>Medical</td>\n",
       "      <td>Low</td>\n",
       "      <td>Male</td>\n",
       "      <td>...</td>\n",
       "      <td>3</td>\n",
       "      <td>3</td>\n",
       "      <td>1</td>\n",
       "      <td>32</td>\n",
       "      <td>2</td>\n",
       "      <td>3</td>\n",
       "      <td>32</td>\n",
       "      <td>5</td>\n",
       "      <td>10</td>\n",
       "      <td>7</td>\n",
       "    </tr>\n",
       "    <tr>\n",
       "      <th>4</th>\n",
       "      <td>52.0</td>\n",
       "      <td>No</td>\n",
       "      <td>Travel_Rarely</td>\n",
       "      <td>994.0</td>\n",
       "      <td>Research &amp; Development</td>\n",
       "      <td>7.0</td>\n",
       "      <td>Master</td>\n",
       "      <td>Life Sciences</td>\n",
       "      <td>Medium</td>\n",
       "      <td>Male</td>\n",
       "      <td>...</td>\n",
       "      <td>3</td>\n",
       "      <td>4</td>\n",
       "      <td>0</td>\n",
       "      <td>18</td>\n",
       "      <td>4</td>\n",
       "      <td>3</td>\n",
       "      <td>8</td>\n",
       "      <td>6</td>\n",
       "      <td>4</td>\n",
       "      <td>0</td>\n",
       "    </tr>\n",
       "  </tbody>\n",
       "</table>\n",
       "<p>5 rows × 31 columns</p>\n",
       "</div>"
      ],
      "text/plain": [
       "    Age Attrition     BusinessTravel  DailyRate              Department  \\\n",
       "0  50.0        No      Travel_Rarely     1126.0  Research & Development   \n",
       "1  36.0        No      Travel_Rarely      216.0  Research & Development   \n",
       "2  21.0       Yes      Travel_Rarely      337.0                   Sales   \n",
       "3  50.0        No  Travel_Frequently     1246.0         Human Resources   \n",
       "4  52.0        No      Travel_Rarely      994.0  Research & Development   \n",
       "\n",
       "   DistanceFromHome      Education EducationField EnvironmentSatisfaction  \\\n",
       "0               1.0        College        Medical               Very High   \n",
       "1               6.0        College        Medical                  Medium   \n",
       "2               7.0  Below College      Marketing                  Medium   \n",
       "3               NaN       Bachelor        Medical                     Low   \n",
       "4               7.0         Master  Life Sciences                  Medium   \n",
       "\n",
       "  Gender  ...  PerformanceRating RelationshipSatisfaction  StockOptionLevel  \\\n",
       "0   Male  ...                  4                        3                 1   \n",
       "1   Male  ...                  4                        4                 2   \n",
       "2   Male  ...                  3                        2                 0   \n",
       "3   Male  ...                  3                        3                 1   \n",
       "4   Male  ...                  3                        4                 0   \n",
       "\n",
       "  TotalWorkingYears TrainingTimesLastYear WorkLifeBalance  YearsAtCompany  \\\n",
       "0                32                     1               2               5   \n",
       "1                 7                     0               3               3   \n",
       "2                 1                     3               3               1   \n",
       "3                32                     2               3              32   \n",
       "4                18                     4               3               8   \n",
       "\n",
       "   YearsInCurrentRole  YearsSinceLastPromotion YearsWithCurrManager  \n",
       "0                   4                        1                    3  \n",
       "1                   2                        0                    1  \n",
       "2                   0                        1                    0  \n",
       "3                   5                       10                    7  \n",
       "4                   6                        4                    0  \n",
       "\n",
       "[5 rows x 31 columns]"
      ]
     },
     "execution_count": 76,
     "metadata": {},
     "output_type": "execute_result"
    }
   ],
   "source": [
    "employee_.head()"
   ]
  },
  {
   "cell_type": "code",
   "execution_count": 77,
   "id": "72e76306-1fa6-4af1-9054-efaa7a5586cf",
   "metadata": {},
   "outputs": [],
   "source": [
    "employee_file = 'employee_attrition.xlsx'"
   ]
  },
  {
   "cell_type": "code",
   "execution_count": null,
   "id": "5b8cf535-6d35-4bf4-9584-f1d8372afc03",
   "metadata": {},
   "outputs": [],
   "source": [
    "employee_.to_excel(employee_file)\n",
    "print('DataFrame is written to Excel File successfully.')"
   ]
  },
  {
   "cell_type": "code",
   "execution_count": null,
   "id": "aa8d7f3e-5622-4407-9e39-161a85e4accd",
   "metadata": {},
   "outputs": [],
   "source": [
    "employee_file"
   ]
  },
  {
   "cell_type": "code",
   "execution_count": null,
   "id": "c7b354c8-d9b9-430e-a094-377c998c65ad",
   "metadata": {},
   "outputs": [],
   "source": []
  }
 ],
 "metadata": {
  "kernelspec": {
   "display_name": "Python 3 (ipykernel)",
   "language": "python",
   "name": "python3"
  },
  "language_info": {
   "codemirror_mode": {
    "name": "ipython",
    "version": 3
   },
   "file_extension": ".py",
   "mimetype": "text/x-python",
   "name": "python",
   "nbconvert_exporter": "python",
   "pygments_lexer": "ipython3",
   "version": "3.9.12"
  }
 },
 "nbformat": 4,
 "nbformat_minor": 5
}
